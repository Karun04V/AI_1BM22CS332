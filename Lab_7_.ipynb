{
  "nbformat": 4,
  "nbformat_minor": 0,
  "metadata": {
    "colab": {
      "provenance": []
    },
    "kernelspec": {
      "name": "python3",
      "display_name": "Python 3"
    },
    "language_info": {
      "name": "python"
    }
  },
  "cells": [
    {
      "cell_type": "code",
      "source": [
        "knowledge_base = {\n",
        "    \"facts\": {\n",
        "        \"American(Robert)\",\n",
        "        \"Enemy(A, America)\",\n",
        "        \"Owns(A, T1)\",\n",
        "        \"Missile(T1)\",\n",
        "    },\n",
        "    \"rules\": [\n",
        "        {\"if\": [\"Missile(x)\"], \"then\": [\"Weapon(x)\"]},\n",
        "        {\"if\": [\"Enemy(x, America)\"], \"then\": [\"Hostile(x)\"]},\n",
        "        {\"if\": [\"Missile(x)\", \"Owns(A, x)\"], \"then\": [\"Sells(Robert, x, A)\"]},\n",
        "        {\n",
        "            \"if\": [\"American(p)\", \"Weapon(q)\", \"Sells(p, q, r)\", \"Hostile(r)\"],\n",
        "            \"then\": [\"Criminal(p)\"],\n",
        "        },\n",
        "    ],\n",
        "}\n",
        "\n",
        "def forward_chaining(kb):\n",
        "    facts = kb[\"facts\"].copy()\n",
        "    rules = kb[\"rules\"]\n",
        "    inferred = set()\n",
        "\n",
        "    while True:\n",
        "        new_inferences = set()\n",
        "\n",
        "        for rule in rules:\n",
        "            if_conditions = rule[\"if\"]\n",
        "            then_conditions = rule[\"then\"]\n",
        "            substitutions = {}\n",
        "            all_conditions_met = True\n",
        "\n",
        "            for condition in if_conditions:\n",
        "                predicate, args = condition.split(\"(\")\n",
        "                args = args[:-1].split(\",\")\n",
        "                matched = False\n",
        "\n",
        "                for fact in facts:\n",
        "                    fact_predicate, fact_args = fact.split(\"(\")\n",
        "                    fact_args = fact_args[:-1].split(\",\")\n",
        "\n",
        "                    if predicate == fact_predicate and len(args) == len(fact_args):\n",
        "                        temp_subs = {}\n",
        "                        for var, val in zip(args, fact_args):\n",
        "                            if var.islower():  # Variable check\n",
        "                                if var in temp_subs and temp_subs[var] != val:\n",
        "                                    break\n",
        "                                temp_subs[var] = val\n",
        "                            elif var != val:\n",
        "                                break\n",
        "                        else:\n",
        "                            matched = True\n",
        "                            substitutions.update(temp_subs)\n",
        "                            break\n",
        "\n",
        "                if not matched:\n",
        "                    all_conditions_met = False\n",
        "                    break\n",
        "\n",
        "            if all_conditions_met:\n",
        "                for condition in then_conditions:\n",
        "                    predicate, args = condition.split(\"(\")\n",
        "                    args = args[:-1].split(\",\")\n",
        "                    new_fact = predicate + \"(\" + \",\".join(substitutions.get(arg, arg) for arg in args) + \")\"\n",
        "                    new_inferences.add(new_fact)\n",
        "\n",
        "        if new_inferences - inferred:\n",
        "            inferred.update(new_inferences)\n",
        "            facts.update(new_inferences)\n",
        "        else:\n",
        "            break\n",
        "\n",
        "    return inferred\n",
        "\n",
        "result = forward_chaining(knowledge_base)\n",
        "print(\"V KARUNESHWAR REDDY\")\n",
        "print('1BM22CS332')\n",
        "if \"Criminal(Robert)\" in result:\n",
        "    print(\"Proved: Robert is a criminal.\")\n",
        "else:\n",
        "    print(\"Could not prove that Robert is a criminal.\")\n"
      ],
      "metadata": {
        "colab": {
          "base_uri": "https://localhost:8080/"
        },
        "id": "BXKgghjkp7Rv",
        "outputId": "de00ce81-6212-4e61-9d62-fdd3f89fa08f"
      },
      "execution_count": 9,
      "outputs": [
        {
          "output_type": "stream",
          "name": "stdout",
          "text": [
            "V KARUNESHWAR REDDY\n",
            "1BM22CS332\n",
            "Proved: Robert is a criminal.\n"
          ]
        }
      ]
    }
  ]
}