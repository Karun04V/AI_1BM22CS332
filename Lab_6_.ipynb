{
  "nbformat": 4,
  "nbformat_minor": 0,
  "metadata": {
    "colab": {
      "provenance": []
    },
    "kernelspec": {
      "name": "python3",
      "display_name": "Python 3"
    },
    "language_info": {
      "name": "python"
    }
  },
  "cells": [
    {
      "cell_type": "code",
      "execution_count": 8,
      "metadata": {
        "colab": {
          "base_uri": "https://localhost:8080/"
        },
        "id": "tQoBTmtulIcq",
        "outputId": "2fd5b070-5675-4f73-cffe-11dc76f06ddd"
      },
      "outputs": [
        {
          "output_type": "stream",
          "name": "stdout",
          "text": [
            "V KARUNESHWAR REDDY\n",
            "1BM22CS332\n",
            "Unification succeeded with substitution: {'X': 'b'}\n"
          ]
        }
      ],
      "source": [
        "def occurs_check(var, term):\n",
        "    \"\"\"Check if a variable occurs in a term.\"\"\"\n",
        "    if var == term:\n",
        "        return True\n",
        "    elif isinstance(term, tuple):  # If the term is a function or a tuple\n",
        "        return any(occurs_check(var, t) for t in term[1:])\n",
        "    return False\n",
        "\n",
        "\n",
        "def unify(term1, term2, substitution=None):\n",
        "    \"\"\"Attempt to unify two terms (or predicates).\"\"\"\n",
        "    if substitution is None:\n",
        "        substitution = {}\n",
        "\n",
        "    # If both terms are the same, no unification needed\n",
        "    if term1 == term2:\n",
        "        return substitution\n",
        "\n",
        "    # If term1 is a variable, try to unify it with term2\n",
        "    if isinstance(term1, str) and term1.isupper():\n",
        "        if term1 in substitution:\n",
        "            return unify(substitution[term1], term2, substitution)\n",
        "        if occurs_check(term1, term2):\n",
        "            return None  # Avoid circular unification\n",
        "        substitution[term1] = term2\n",
        "        return substitution\n",
        "\n",
        "    # If term2 is a variable, try to unify it with term1\n",
        "    if isinstance(term2, str) and term2.isupper():\n",
        "        return unify(term2, term1, substitution)\n",
        "\n",
        "    # If both terms are functions or predicates (tuples), unify their components\n",
        "    if isinstance(term1, tuple) and isinstance(term2, tuple):\n",
        "        if len(term1) != len(term2):\n",
        "            return None  # Different number of arguments\n",
        "        for t1, t2 in zip(term1[1:], term2[1:]):\n",
        "            substitution = unify(t1, t2, substitution)\n",
        "            if substitution is None:\n",
        "                return None  # If any unification fails, return None\n",
        "        return substitution\n",
        "\n",
        "    return None  # If no other cases match, return None (failure)\n",
        "\n",
        "\n",
        "# Example usage\n",
        "term1 = ('P', 'X', 'a')  # Predicate P(X, a)\n",
        "term2 = ('P', 'b', 'a')  # Predicate P(b, a)\n",
        "\n",
        "# Attempt to unify\n",
        "substitution = unify(term1, term2)\n",
        "print(\"V KARUNESHWAR REDDY\")\n",
        "print('1BM22CS332')\n",
        "if substitution is not None:\n",
        "    print(\"Unification succeeded with substitution:\", substitution)\n",
        "else:\n",
        "    print(\"Unification failed\")\n"
      ]
    }
  ]
}